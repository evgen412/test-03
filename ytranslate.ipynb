{
  "cells": [
    {
      "cell_type": "markdown",
      "metadata": {
        "id": "view-in-github",
        "colab_type": "text"
      },
      "source": [
        "<a href=\"https://colab.research.google.com/github/evgen412/test-03/blob/master/ytranslate.ipynb\" target=\"_parent\"><img src=\"https://colab.research.google.com/assets/colab-badge.svg\" alt=\"Open In Colab\"/></a>"
      ]
    },
    {
      "cell_type": "markdown",
      "source": [
        "# Youtube Translate &nbsp; [![github][github_img]][github_url]\n",
        "[gitHub_img]: https://img.shields.io/badge/GitHub-%23121011.svg?logo=github&logoColor=white\n",
        "[github_url]: https://github.com/alex2844/youtube-translate"
      ],
      "metadata": {
        "id": "3xu2YwcOYTVr"
      }
    },
    {
      "cell_type": "code",
      "execution_count": null,
      "metadata": {
        "id": "0iLQPYt1vQdH",
        "cellView": "form"
      },
      "outputs": [],
      "source": [
        "# @title Settings\n",
        "import os\n",
        "from google.colab import drive\n",
        "\n",
        "URL = '' # @param {\"type\":\"string\",\"placeholder\":\" \"}\n",
        "HEIGHT = 0 # @param {\"type\":\"integer\",\"placeholder\":\" \"}\n",
        "FROMLANG = 'en' # @param [\"en\", \"ru\", \"zh\", \"ko\", \"ar\", \"fr\", \"it\", \"es\", \"de\", \"ja\" ]\n",
        "TOLANG = 'ru' # @param [\"ru\", \"en\", \"kk\" ]\n",
        "SAVE = 'download' # @param [\"save\", \"download\", \"none\"]\n",
        "\n",
        "os.environ['URL'] = URL;\n",
        "os.environ['HEIGHT'] = str(HEIGHT);\n",
        "os.environ['FROMLANG'] = FROMLANG;\n",
        "os.environ['TOLANG'] = TOLANG;\n",
        "os.environ['version'] = 'main'\n",
        "\n",
        "if SAVE == 'save' or (('://' not in URL) and ('/MyDrive/' in URL)):\n",
        "    ! command -v xattr &>/dev/null || apt install -y xattr\n",
        "    if not os.path.exists('/content/drive'):\n",
        "        drive.mount('/content/drive');\n",
        "    if not os.path.exists('/content/drive/MyDrive/ytranslate'):\n",
        "        os.mkdir('/content/drive/MyDrive/ytranslate')"
      ]
    },
    {
      "cell_type": "code",
      "execution_count": null,
      "metadata": {
        "cellView": "form",
        "id": "UUqOSrlKr6B0"
      },
      "outputs": [],
      "source": [
        "# @title Download\n",
        "%shell source <(wget -qO- \"https://raw.githubusercontent.com/alex2844/youtube-translate/$version/ytranslate.sh\") && echo \"title=${title}\" > .env"
      ]
    },
    {
      "cell_type": "code",
      "execution_count": null,
      "metadata": {
        "id": "61F_vjgF1D7q",
        "cellView": "form"
      },
      "outputs": [],
      "source": [
        "# @title Save\n",
        "import os\n",
        "from google.colab import files, drive\n",
        "\n",
        "with open('.env', 'r') as f:\n",
        "    for line in f:\n",
        "        line = line.strip();\n",
        "        if line and '=' in line:\n",
        "            key, value = line.split('=', 1);\n",
        "            os.environ[key] = value;\n",
        "mp4 = os.environ['title'] + '.mp4';\n",
        "if SAVE == 'download':\n",
        "    files.download(mp4);\n",
        "elif SAVE == 'save':\n",
        "    ! cp \"$mp4\" \"/content/drive/MyDrive/ytranslate/\"\n",
        "    ! sleep 5\n",
        "    fid = ! xattr -p 'user.drive.id' '/content/drive/MyDrive/ytranslate/{mp4}'\n",
        "    print('https://drive.google.com/file/d/' + fid[0] + '/view')"
      ]
    }
  ],
  "metadata": {
    "colab": {
      "provenance": [],
      "gpuType": "T4",
      "include_colab_link": true
    },
    "kernelspec": {
      "display_name": "Python 3",
      "name": "python3"
    },
    "language_info": {
      "name": "python"
    },
    "accelerator": "GPU"
  },
  "nbformat": 4,
  "nbformat_minor": 0
}